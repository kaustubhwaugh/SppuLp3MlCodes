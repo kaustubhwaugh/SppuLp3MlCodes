{
  "nbformat": 4,
  "nbformat_minor": 0,
  "metadata": {
    "colab": {
      "provenance": []
    },
    "kernelspec": {
      "name": "python3",
      "display_name": "Python 3"
    },
    "language_info": {
      "name": "python"
    }
  },
  "cells": [
    {
      "cell_type": "markdown",
      "source": [
        "Predict the price of the Uber ride from a given pickup point to the agreed drop-off location. Perform\n",
        "following tasks:\n",
        "1. Pre-process the dataset.\n",
        "2. Identify outliers.\n",
        "3. Check the correlation.\n",
        "4. Implement linear regression model.\n",
        "5. Evaluate the model using R2, RMSE, etc.\n",
        "\n",
        "Use Uber Dataset:\n",
        "[Uber.csv](https://www.kaggle.com/datasets/yasserh/uber-fares-dataset)"
      ],
      "metadata": {
        "id": "6qQc3Uw114zn"
      }
    },
    {
      "cell_type": "code",
      "execution_count": null,
      "metadata": {
        "id": "LuwGZYDZ0Iw-"
      },
      "outputs": [],
      "source": [
        "import pandas as pd\n",
        "import numpy as np\n",
        "import matplotlib.pyplot as  plt\n",
        "import seaborn as sns\n",
        "from google.colab import files\n",
        "\n",
        "uploaded = files.upload()"
      ]
    },
    {
      "cell_type": "code",
      "source": [
        "data = pd.read_csv('uber.csv')\n",
        "\n",
        "print(data.head())"
      ],
      "metadata": {
        "id": "RhHuP5Yo5tWv"
      },
      "execution_count": null,
      "outputs": []
    },
    {
      "cell_type": "markdown",
      "source": [
        "# Data Preprocessing"
      ],
      "metadata": {
        "id": "qyC4qmbv75Ft"
      }
    },
    {
      "cell_type": "code",
      "source": [
        "# Drop irrelevant columns\n",
        "data = data.drop([\"Unnamed: 0\",\"key\"], axis=1)\n",
        "\n",
        "# Check for missing values in the dataset\n",
        "missing_values = data.isnull().sum()\n",
        "\n",
        "# Drop rows with missing values (as they are minimal)\n",
        "data = data.dropna()\n",
        "\n",
        "# Convert pickup_datetime to datetime format and extract useful time features\n",
        "data['pickup_datetime'] = pd.to_datetime(data['pickup_datetime'], errors='coerce')\n",
        "data['pickup_day'] = data['pickup_datetime'].dt.day\n",
        "data['pickup_hour'] = data['pickup_datetime'].dt.hour\n",
        "data['pickup_dayofweek'] = data['pickup_datetime'].dt.dayofweek\n",
        "\n",
        "# Drop the original pickup_datetime column as we have extracted useful features\n",
        "# data = data.drop(columns=['pickup_datetime'])\n",
        "\n",
        "# Verify the preprocessing\n",
        "data.head(), missing_values\n"
      ],
      "metadata": {
        "id": "U6bTOqeX8R6G"
      },
      "execution_count": null,
      "outputs": []
    },
    {
      "cell_type": "markdown",
      "source": [
        "# Dropping null rows"
      ],
      "metadata": {
        "id": "nh0edRYs8oD1"
      }
    },
    {
      "cell_type": "code",
      "source": [
        "data.describe().T"
      ],
      "metadata": {
        "id": "NF5NE1Y0fTWa"
      },
      "execution_count": null,
      "outputs": []
    },
    {
      "cell_type": "code",
      "source": [
        "data.isna().sum()"
      ],
      "metadata": {
        "id": "T6EG9PDuj2qP"
      },
      "execution_count": null,
      "outputs": []
    },
    {
      "cell_type": "markdown",
      "source": [
        "# Boxplots"
      ],
      "metadata": {
        "id": "vr_HSNGb8j7U"
      }
    },
    {
      "cell_type": "code",
      "source": [
        "for col in data.select_dtypes(exclude=['object']):\n",
        "    plt.figure()\n",
        "    sns.boxplot(data=data,x=col)"
      ],
      "metadata": {
        "id": "BWkyl5nBkCuv"
      },
      "execution_count": null,
      "outputs": []
    },
    {
      "cell_type": "markdown",
      "source": [
        "# Dropping outliers"
      ],
      "metadata": {
        "id": "hrCV0IIF80h8"
      }
    },
    {
      "cell_type": "code",
      "source": [
        "data = data[\n",
        "    (data.pickup_latitude > -90) & (data.pickup_latitude < 90) &\n",
        "    (data.dropoff_latitude > -90) & (data.dropoff_latitude < 90) &\n",
        "    (data.pickup_longitude > -180) & (data.pickup_longitude < 180) &\n",
        "    (data.dropoff_longitude > -180) & (data.dropoff_longitude < 180) &\n",
        "    (data.fare_amount > 0) & (data.passenger_count > 0)  & (data.passenger_count < 50)\n",
        "]"
      ],
      "metadata": {
        "id": "Uu5C5U_TkS_3"
      },
      "execution_count": null,
      "outputs": []
    },
    {
      "cell_type": "markdown",
      "source": [
        "# Calculating Distance"
      ],
      "metadata": {
        "id": "iN1LQu5S87RU"
      }
    },
    {
      "cell_type": "code",
      "source": [
        "from math import cos, asin, sqrt, pi\n",
        "\n",
        "def distance(lat_1,lon_1,lat_2,lon_2):\n",
        "#     lat1 = row.pickup_latitude\n",
        "#     lon1 = row.pickup_longitude\n",
        "#     lat2 = row.dropoff_latitude\n",
        "#     lon2 = row.dropoff_longitude\n",
        "    lon_1, lon_2, lat_1, lat_2 = map(np.radians, [lon_1, lon_2, lat_1, lat_2])  #Degrees to Radians\n",
        "\n",
        "\n",
        "    diff_lon = lon_2 - lon_1\n",
        "    diff_lat = lat_2 - lat_1\n",
        "\n",
        "\n",
        "    km = 2 * 6371 * np.arcsin(np.sqrt(np.sin(diff_lat/2.0)**2 +  np.cos(lat_1) * np.cos(lat_2) * np.sin(diff_lon/2.0)**2))\n",
        "\n",
        "    return km"
      ],
      "metadata": {
        "id": "uKww5cpslNa_"
      },
      "execution_count": null,
      "outputs": []
    },
    {
      "cell_type": "code",
      "source": [
        "temp = distance(data['pickup_latitude'],data['pickup_longitude'],data['dropoff_latitude'],data['dropoff_longitude'])\n",
        "temp.head()"
      ],
      "metadata": {
        "id": "bdk1dYuplTKf"
      },
      "execution_count": null,
      "outputs": []
    },
    {
      "cell_type": "code",
      "source": [
        "data_new = data.copy()\n",
        "data_new['Distance'] = temp\n",
        "data = data_new\n",
        "data.head()"
      ],
      "metadata": {
        "id": "VgpV765GlYbH"
      },
      "execution_count": null,
      "outputs": []
    },
    {
      "cell_type": "code",
      "source": [
        "sns.boxplot(data=data,x='Distance')"
      ],
      "metadata": {
        "id": "Ch2t0EWEldtP"
      },
      "execution_count": null,
      "outputs": []
    },
    {
      "cell_type": "code",
      "source": [
        "data = data[(data['Distance'] < 200) & (data['Distance'] > 0)]"
      ],
      "metadata": {
        "id": "_tr2G7lRlhcu"
      },
      "execution_count": null,
      "outputs": []
    },
    {
      "cell_type": "markdown",
      "source": [
        "# Date and Time features extract"
      ],
      "metadata": {
        "id": "8cAYmxQy9Cys"
      }
    },
    {
      "cell_type": "code",
      "source": [
        "data['pickup_datetime'] = pd.to_datetime(data['pickup_datetime'])"
      ],
      "metadata": {
        "id": "AKXXkLwElkcm"
      },
      "execution_count": null,
      "outputs": []
    },
    {
      "cell_type": "code",
      "source": [
        "data['week_day'] = data['pickup_datetime'].dt.day_name()\n",
        "data['Year'] = data['pickup_datetime'].dt.year\n",
        "data['Month'] = data['pickup_datetime'].dt.month\n",
        "data['Hour'] = data['pickup_datetime'].dt.hour"
      ],
      "metadata": {
        "id": "jj4vQZ8XlmXY"
      },
      "execution_count": null,
      "outputs": []
    },
    {
      "cell_type": "code",
      "source": [
        "data.drop(columns=['pickup_datetime','pickup_latitude','pickup_longitude','dropoff_latitude','dropoff_longitude'],inplace=True)"
      ],
      "metadata": {
        "id": "vij92u1dlsao"
      },
      "execution_count": null,
      "outputs": []
    },
    {
      "cell_type": "code",
      "source": [
        "data.head()"
      ],
      "metadata": {
        "id": "Lw9oYGB2ludH"
      },
      "execution_count": null,
      "outputs": []
    },
    {
      "cell_type": "code",
      "source": [
        "temp = data.copy()\n",
        "\n",
        "def convert_week_day(day):\n",
        "    if day in ['Monday','Tuesday','Wednesday','Thursday']:\n",
        "        return 0 # Weekday\n",
        "    return 1 # Weekend\n",
        "\n",
        "def convert_hour(hour):\n",
        "    if 5 <= hour <= 12:\n",
        "        return 1\n",
        "    elif 12 < hour <= 17:\n",
        "        return 2\n",
        "    elif 17 < hour < 24:\n",
        "        return 3\n",
        "    return 0\n",
        "\n",
        "data.loc[:, 'week_day'] = temp['week_day'].apply(convert_week_day)\n",
        "\n",
        "data.loc[:, 'Hour'] = temp['Hour'].apply(convert_hour)\n",
        "data.head()\n",
        ""
      ],
      "metadata": {
        "id": "9Pr8Jm-OlwEX"
      },
      "execution_count": null,
      "outputs": []
    },
    {
      "cell_type": "markdown",
      "source": [
        "# Correlation Matrix"
      ],
      "metadata": {
        "id": "JCcs0xyx9IHc"
      }
    },
    {
      "cell_type": "code",
      "source": [
        "data.corr()"
      ],
      "metadata": {
        "id": "-YbSl5xIlxqX"
      },
      "execution_count": null,
      "outputs": []
    },
    {
      "cell_type": "code",
      "source": [
        "sns.scatterplot(y=data['fare_amount'],x=data['Distance'])"
      ],
      "metadata": {
        "id": "Z9CDhDGplzBB"
      },
      "execution_count": null,
      "outputs": []
    },
    {
      "cell_type": "code",
      "source": [
        "from sklearn.preprocessing import StandardScaler\n",
        "x = data[['Distance']].values\n",
        "y = data['fare_amount'].values.reshape(-1,1)"
      ],
      "metadata": {
        "id": "OoS5mLhnl1xn"
      },
      "execution_count": null,
      "outputs": []
    },
    {
      "cell_type": "code",
      "source": [
        "from sklearn.model_selection import train_test_split\n",
        "x_train, x_test, y_train,y_test = train_test_split(x,y,random_state=10)"
      ],
      "metadata": {
        "id": "5Seiis2rl3NR"
      },
      "execution_count": null,
      "outputs": []
    },
    {
      "cell_type": "code",
      "source": [
        "std_x = StandardScaler()\n",
        "x_train = std_x.fit_transform(x_train)"
      ],
      "metadata": {
        "id": "NcxjGT71l4XG"
      },
      "execution_count": null,
      "outputs": []
    },
    {
      "cell_type": "code",
      "source": [
        "x_test = std_x.transform(x_test)"
      ],
      "metadata": {
        "id": "38DlnF-Il5se"
      },
      "execution_count": null,
      "outputs": []
    },
    {
      "cell_type": "code",
      "source": [
        "std_y = StandardScaler()\n",
        "y_train = std_y.fit_transform(y_train)\n",
        "y_test = std_y.transform(y_test)"
      ],
      "metadata": {
        "id": "x_ZkvxUnl693"
      },
      "execution_count": null,
      "outputs": []
    },
    {
      "cell_type": "code",
      "source": [
        "from sklearn.metrics import mean_squared_error,r2_score, mean_absolute_error\n",
        "def fit_predict(model):\n",
        "    model.fit(x_train,y_train.ravel())\n",
        "    y_pred = model.predict(x_test)\n",
        "    r_squared = r2_score(y_test,y_pred)\n",
        "    RMSE = mean_squared_error(y_test, y_pred,squared=False)\n",
        "    MAE = mean_absolute_error(y_test,y_pred)\n",
        "    print('R-squared: ', r_squared)\n",
        "    print('RMSE: ', RMSE)\n",
        "    print(\"MAE:  \",MAE)"
      ],
      "metadata": {
        "id": "-w1UC1BDl-aG"
      },
      "execution_count": null,
      "outputs": []
    },
    {
      "cell_type": "code",
      "source": [
        "from sklearn.metrics import mean_squared_error, r2_score, mean_absolute_error\n",
        "\n",
        "def fit_predict(model):\n",
        "    model.fit(x_train, y_train.ravel())\n",
        "    y_pred = model.predict(x_test)\n",
        "    r_squared = r2_score(y_test, y_pred)\n",
        "    # Use mean_squared_error with squared=False to get RMSE directly\n",
        "    RMSE = mean_squared_error(y_test, y_pred, squared=False)\n",
        "    MAE = mean_absolute_error(y_test, y_pred)\n",
        "    print('R-squared: ', r_squared)\n",
        "    print('RMSE: ', RMSE)\n",
        "    print(\"MAE:  \", MAE)"
      ],
      "metadata": {
        "id": "7cPGOr-csge-"
      },
      "execution_count": null,
      "outputs": []
    },
    {
      "cell_type": "code",
      "source": [
        "from sklearn.linear_model import LinearRegression\n",
        "fit_predict(LinearRegression())"
      ],
      "metadata": {
        "id": "qLBIwEYRmAc2"
      },
      "execution_count": null,
      "outputs": []
    },
    {
      "cell_type": "code",
      "source": [
        "from sklearn.ensemble import RandomForestRegressor\n",
        "fit_predict(RandomForestRegressor())"
      ],
      "metadata": {
        "id": "zKb9X9uxmC8u"
      },
      "execution_count": null,
      "outputs": []
    }
  ]
}